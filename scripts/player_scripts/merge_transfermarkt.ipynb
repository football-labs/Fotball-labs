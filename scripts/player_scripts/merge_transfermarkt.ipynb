{
 "cells": [
  {
   "cell_type": "markdown",
   "id": "dcf633db-936f-4408-ab1c-60d2ac77aa43",
   "metadata": {},
   "source": [
    "Bout de code pour associer les fichiers players_from_clubs.csv et players_profiles en players_tm"
   ]
  },
  {
   "cell_type": "code",
   "execution_count": 4,
   "id": "38364a37-bd19-4803-aa4d-793edd901387",
   "metadata": {},
   "outputs": [
    {
     "name": "stdout",
     "output_type": "stream",
     "text": [
      "✅ Fichier créé\n",
      "Nombre de lignes : 2,061\n"
     ]
    }
   ],
   "source": [
    "from pathlib import Path\n",
    "import pandas as pd\n",
    "\n",
    "# On accède au dossier du projet / Accessing the project file / Se accede al expediente del proyecto\n",
    "def _get_script_dir():\n",
    "    try:\n",
    "        return Path(__file__).resolve().parent\n",
    "    except NameError:\n",
    "        return Path.cwd()\n",
    "        \n",
    "# On crée players_tm.csv en joignant players_from_clubs.csv et players_profiles.csv sur player_id / We create players_tm.csv by joining players_from_clubs.csv and players_profiles.csv on player_id.\n",
    "# Se crea players_tm.csv uniendo players_from_clubs.csv y players_profiles.csv en player_id\n",
    "def merge_tm(join_type: str = \"inner\"):\n",
    "    # Localisation des fichiers / File location / Ubicación de los archivos\n",
    "    script_dir = _get_script_dir()\n",
    "    data_player_dir = script_dir.parent.parent / \"data\" / \"player\"\n",
    "\n",
    "    clubs_path = data_player_dir / \"players_from_clubs.csv\"\n",
    "    profiles_path = data_player_dir / \"players_profiles.csv\"\n",
    "    out_path = data_player_dir / \"players_tm.csv\"\n",
    "\n",
    "    # Colonnes à conserver / Columns to keep / Columnas que se conservarán\n",
    "    keep_clubs = [\"club_id\", \"player_id\", \"player_name\", \"position\", \"dateOfBirth\", \"age\",\"nationality\", \"height\", \"foot\",\n",
    "                  \"joinedOn\", \"contract\", \"marketValue\", \"status\"]\n",
    "    keep_profiles = [\"imageUrl\", \"position_other\", \"shirtNumber\", \"club_name\", \"agent_name\", \"outfitter\"]\n",
    "    final_order = [\"player_id\", \"player_name\", \"nationality\", \"dateOfBirth\", \"age\",\"club_name\", \"club_id\",\"position\",\n",
    "                   \"position_other\", \"height\", \"foot\",\"shirtNumber\", \"joinedOn\", \"contract\", \"marketValue\",\"imageUrl\",\n",
    "                   \"agent_name\", \"outfitter\", \"status\"]\n",
    "\n",
    "    # Chargement / Loading / Cargando\n",
    "    clubs_df = pd.read_csv(clubs_path, dtype=str, encoding=\"utf-8\", low_memory=False)\n",
    "    profiles_df = pd.read_csv(profiles_path, dtype=str, encoding=\"utf-8\", low_memory=False)\n",
    "\n",
    "    # Normalisation / Standardisation / Normalización\n",
    "    for df in (clubs_df, profiles_df):\n",
    "        if \"player_id\" in df.columns:\n",
    "            df[\"player_id\"] = df[\"player_id\"].astype(str).str.strip()\n",
    "\n",
    "    # Sélection des colonnes / Column selection / Selección de columnas\n",
    "    def ensure_and_select(df, wanted_cols):\n",
    "        df = df.copy()\n",
    "        for col in wanted_cols:\n",
    "            if col not in df.columns:\n",
    "                df[col] = pd.NA\n",
    "        return df[wanted_cols]\n",
    "\n",
    "    clubs_df = ensure_and_select(clubs_df, keep_clubs)\n",
    "    profiles_df = ensure_and_select(profiles_df, keep_profiles + [\"player_id\"])\n",
    "\n",
    "    # Suppression des doubles s'il y en a / Deletion of duplicates, if any / Eliminación de duplicados, si los hay.\n",
    "    profiles_df = profiles_df.drop_duplicates(subset=[\"player_id\"], keep=\"first\")\n",
    "\n",
    "    # Jointure / Jointure / Unión\n",
    "    merged = pd.merge(clubs_df, profiles_df, on=\"player_id\", how=join_type)\n",
    "\n",
    "    # Ordre final / Final order\n",
    "    for col in final_order:\n",
    "        if col not in merged.columns:\n",
    "            merged[col] = pd.NA\n",
    "    merged = merged[final_order]\n",
    "\n",
    "    # --- Exclusions de clubs ---\n",
    "    EXCLUDE_CLUBS = {\n",
    "        \"1.FC Nuremberg\", \"A. Bielefeld II\", \"Arm. Bielefeld\", \"Benevento\", \"Bournemouth U21\",\n",
    "        \"Cádiz CF\", \"Cardiff\", \"Carpi\", \"Catania\", \"CD Leganés\", \"Cesena\", \"Chievo Verona\",\n",
    "        \"Córdoba CF\", \"Crotone\", \"Darmstadt 98\", \"Dep. La Coruña\", \"E. Braunschweig\",\n",
    "        \"E. Frankfurt II\", \"F. Düsseldorf\", \"FC Bayern II\", \"FC Bayern U19\", \"FC Empoli\",\n",
    "        \"FC Ingolstadt\", \"FC Schalke 04\", \"Frosinone\", \"FSV Mainz 05 II\", \"Granada CF\",\n",
    "        \"Greuther Fürth\", \"Hannover 96\", \"Hannover 96 II\", \"Hannover 96 U19\", \"Hertha BSC\",\n",
    "        \"Holst. Kiel II\", \"Holstein Kiel\", \"Huddersfield\", \"Hull City\", \"Ingolstadt II\",\n",
    "        \"Ipswich\", \"Leicester\", \"Livorno\", \"Luton\", \"Málaga CF\", \"Middlesbrough\", \"Monza\",\n",
    "        \"Norwich\", \"Nuremberg II\", \"Palermo\", \"Pescara\", \"QPR\", \"RB Leipzig U19\", \"Reading\",\n",
    "        \"Real Sociedad B\", \"Real Valladolid\", \"Real Zaragoza\", \"Salernitana\", \"Sampdoria\",\n",
    "        \"SC Paderborn\", \"SC Paderborn II\", \"SD Eibar\", \"SD Huesca\", \"Sevilla Atl.\", \"Sheff Utd\",\n",
    "        \"Siena\", \"Southampton\", \"Spezia Calcio\", \"Sporting Atlco.\", \"Sporting Gijón\",\n",
    "        \"Stoke City\", \"Stuttgart II\", \"Swansea\", \"UD Almería\", \"UD Las Palmas\", \"Venezia\",\n",
    "        \"VfL Bochum\", \"VfL Bochum U19\", \"W. Bremen II\", \"Watford\", \"West Brom\", \"Wigan\",\n",
    "    }\n",
    "\n",
    "    merged = merged.loc[\n",
    "        ~merged[\"club_name\"].fillna(\"\").str.strip().isin(EXCLUDE_CLUBS)\n",
    "    ].copy()\n",
    "    \n",
    "    # Sauvegarde / Orden final\n",
    "    out_path.parent.mkdir(parents=True, exist_ok=True)\n",
    "    merged.to_csv(out_path, index=False, encoding=\"utf-8\")\n",
    "\n",
    "    print(\"✅ Fichier créé\")\n",
    "    print(f\"Nombre de lignes : {len(merged):,}\")\n",
    "\n",
    "# Exécution de la fonction / Function execution / Ejecución de la función\n",
    "if __name__ == \"__main__\":\n",
    "    merge_tm()\n"
   ]
  },
  {
   "cell_type": "markdown",
   "id": "b0378888-3c06-4b0c-9eea-6bb00e5a385e",
   "metadata": {},
   "source": [
    "Nombre de joueurs après pré-traitement en enlevant les joueurs hors big 5, et équipe de jeunes : \n",
    "Avant : 3730\n",
    "Après : 2061"
   ]
  },
  {
   "cell_type": "code",
   "execution_count": null,
   "id": "3e03aaf0-f79a-4512-b890-9d999f45dcf6",
   "metadata": {},
   "outputs": [],
   "source": []
  }
 ],
 "metadata": {
  "kernelspec": {
   "display_name": "Python 3 (ipykernel)",
   "language": "python",
   "name": "python3"
  },
  "language_info": {
   "codemirror_mode": {
    "name": "ipython",
    "version": 3
   },
   "file_extension": ".py",
   "mimetype": "text/x-python",
   "name": "python",
   "nbconvert_exporter": "python",
   "pygments_lexer": "ipython3",
   "version": "3.12.7"
  }
 },
 "nbformat": 4,
 "nbformat_minor": 5
}
